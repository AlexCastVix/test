{
 "cells": [
  {
   "cell_type": "markdown",
   "metadata": {},
   "source": [
    "# Week 4 : My Jupyter Notebook\n",
    "\n",
    "*Castelnau Alexandre*\n",
    "\n",
    "**The following code give the k-first lines of Pascal's Triangle**"
   ]
  },
  {
   "cell_type": "code",
   "execution_count": 6,
   "metadata": {},
   "outputs": [
    {
     "name": "stdout",
     "output_type": "stream",
     "text": [
      "Requirement already satisfied: numpy in c:\\users\\alexandre\\anaconda3\\lib\\site-packages (1.18.1)\n"
     ]
    },
    {
     "name": "stderr",
     "output_type": "stream",
     "text": [
      "WARNING: You are using pip version 20.1.1; however, version 20.2.4 is available.\n",
      "You should consider upgrading via the 'C:\\Users\\ALEXANDRE\\anaconda3\\python.exe -m pip install --upgrade pip' command.\n"
     ]
    }
   ],
   "source": [
    "!python -m pip install numpy"
   ]
  },
  {
   "cell_type": "code",
   "execution_count": 7,
   "metadata": {},
   "outputs": [
    {
     "name": "stdout",
     "output_type": "stream",
     "text": [
      "[[  1.   0.   0.   0.   0.   0.   0.   0.   0.   0.]\n",
      " [  1.   1.   0.   0.   0.   0.   0.   0.   0.   0.]\n",
      " [  1.   2.   1.   0.   0.   0.   0.   0.   0.   0.]\n",
      " [  1.   3.   3.   1.   0.   0.   0.   0.   0.   0.]\n",
      " [  1.   4.   6.   4.   1.   0.   0.   0.   0.   0.]\n",
      " [  1.   5.  10.  10.   5.   1.   0.   0.   0.   0.]\n",
      " [  1.   6.  15.  20.  15.   6.   1.   0.   0.   0.]\n",
      " [  1.   7.  21.  35.  35.  21.   7.   1.   0.   0.]\n",
      " [  1.   8.  28.  56.  70.  56.  28.   8.   1.   0.]\n",
      " [  1.   9.  36.  84. 126. 126.  84.  36.   9.   1.]]\n"
     ]
    }
   ],
   "source": [
    "import numpy as np\n",
    "\n",
    "def pascal(k):\n",
    "    pasTri = np.zeros((k,k))\n",
    "    pasTri[0, 0]=1\n",
    "    \n",
    "    i, j = 1, 0\n",
    "    \n",
    "    while i<k:\n",
    "        while j<=i:\n",
    "            pasTri[i, j] = pasTri[i-1, j] + pasTri[i-1, j-1]\n",
    "            j+=1\n",
    "        j=0\n",
    "        i+=1\n",
    "    \n",
    "    return pasTri\n",
    "        \n",
    "print(pascal(10))"
   ]
  },
  {
   "cell_type": "markdown",
   "metadata": {},
   "source": [
    "Hope you enjoy to remember how to have the binomial coefficients $\\binom{k}{i}$ in the famous formula : $$(a+b)^k = \\sum_{i=0}^k \\binom{k}{i} a^{i} b^{k-i} $$"
   ]
  }
 ],
 "metadata": {
  "kernelspec": {
   "display_name": "Python 3",
   "language": "python",
   "name": "python3"
  },
  "language_info": {
   "codemirror_mode": {
    "name": "ipython",
    "version": 3
   },
   "file_extension": ".py",
   "mimetype": "text/x-python",
   "name": "python",
   "nbconvert_exporter": "python",
   "pygments_lexer": "ipython3",
   "version": "3.7.7"
  }
 },
 "nbformat": 4,
 "nbformat_minor": 4
}
