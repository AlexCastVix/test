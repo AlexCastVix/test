{
 "cells": [
  {
   "cell_type": "markdown",
   "metadata": {},
   "source": [
    "# My Jupyter Notebook on IBM Watson Studio"
   ]
  },
  {
   "cell_type": "markdown",
   "metadata": {},
   "source": [
    "**Castelnau Alexandre**"
   ]
  },
  {
   "cell_type": "markdown",
   "metadata": {},
   "source": [
    "*Engineering student who want to know how to handle data*"
   ]
  },
  {
   "cell_type": "markdown",
   "metadata": {},
   "source": [
    "### Code giving the k-first line of Pascal's triangle"
   ]
  },
  {
   "cell_type": "code",
   "execution_count": 7,
   "metadata": {},
   "outputs": [
    {
     "name": "stdout",
     "output_type": "stream",
     "text": [
      "[[  1.   0.   0.   0.   0.   0.   0.   0.   0.   0.]\n",
      " [  1.   1.   0.   0.   0.   0.   0.   0.   0.   0.]\n",
      " [  1.   2.   1.   0.   0.   0.   0.   0.   0.   0.]\n",
      " [  1.   3.   3.   1.   0.   0.   0.   0.   0.   0.]\n",
      " [  1.   4.   6.   4.   1.   0.   0.   0.   0.   0.]\n",
      " [  1.   5.  10.  10.   5.   1.   0.   0.   0.   0.]\n",
      " [  1.   6.  15.  20.  15.   6.   1.   0.   0.   0.]\n",
      " [  1.   7.  21.  35.  35.  21.   7.   1.   0.   0.]\n",
      " [  1.   8.  28.  56.  70.  56.  28.   8.   1.   0.]\n",
      " [  1.   9.  36.  84. 126. 126.  84.  36.   9.   1.]]\n"
     ]
    }
   ],
   "source": [
    "import numpy as np\n",
    "\n",
    "def pascal(k):\n",
    "    pasTri = np.zeros((k,k))\n",
    "    pasTri[0, 0]=1\n",
    "    \n",
    "    i, j = 1, 0\n",
    "    \n",
    "    while i<k:\n",
    "        while j<=i:\n",
    "            pasTri[i, j] = pasTri[i-1, j] + pasTri[i-1, j-1]\n",
    "            j+=1\n",
    "        j=0\n",
    "        i+=1\n",
    "    \n",
    "    return pasTri\n",
    "        \n",
    "print(pascal(10))"
   ]
  },
  {
   "cell_type": "markdown",
   "metadata": {},
   "source": [
    "Hope you enjoy to remember how to have the binomial coefficients $\\binom{k}{i}$ in the famous formula : $$(a+b)^k = \\sum_{i=0}^k \\binom{k}{i} a^{i} b^{k-i} $$\n",
    "Remember that binomial coefficients can be compute by different methods : \n",
    "* Pascal's Triangle\n",
    "* Factorial formula\n",
    "\n",
    "Please found more on binomial theorem and coefficient :\n",
    "1. [Wikipedia][1]\n",
    "2. [Je retiens][2]\n",
    "\n",
    "[1]: https://fr.wikipedia.org/wiki/Formule_du_bin%C3%B4me_de_Newton\n",
    "[2]: https://jeretiens.net/le-coefficient-binomial/"
   ]
  }
 ],
 "metadata": {
  "kernelspec": {
   "display_name": "Python 3",
   "language": "python",
   "name": "python3"
  },
  "language_info": {
   "codemirror_mode": {
    "name": "ipython",
    "version": 3
   },
   "file_extension": ".py",
   "mimetype": "text/x-python",
   "name": "python",
   "nbconvert_exporter": "python",
   "pygments_lexer": "ipython3",
   "version": "3.7.7"
  }
 },
 "nbformat": 4,
 "nbformat_minor": 4
}
